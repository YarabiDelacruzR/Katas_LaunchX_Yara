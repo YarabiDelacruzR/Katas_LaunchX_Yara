{
 "cells": [
  {
   "cell_type": "markdown",
   "metadata": {},
   "source": [
    "# Ejercicio 1"
   ]
  },
  {
   "cell_type": "code",
   "execution_count": 2,
   "metadata": {},
   "outputs": [
    {
     "name": "stdout",
     "output_type": "stream",
     "text": [
      "¡Don't Worry be happy!\n"
     ]
    }
   ],
   "source": [
    "Asteroide=input(\"Ingrese la velocidad del asteroide\")\n",
    "Asteroide=int(Asteroide)\n",
    "if Asteroide > 25:\n",
    "    print('¡Asteroide con una velocidad peligrosa!')\n",
    "else:\n",
    "    print(\"¡Don't Worry be happy!\")"
   ]
  },
  {
   "cell_type": "markdown",
   "metadata": {},
   "source": [
    "# Ejercicio 2"
   ]
  },
  {
   "cell_type": "code",
   "execution_count": 4,
   "metadata": {},
   "outputs": [
    {
     "name": "stdout",
     "output_type": "stream",
     "text": [
      "Se ve una luz en el cielo\n"
     ]
    }
   ],
   "source": [
    "Asteroide=input(\"Ingrese la velocidad del asteroide\")\n",
    "Asteroide=int(Asteroide)\n",
    "if Asteroide > 20:\n",
    "    print('Se ve una luz en el cielo!')\n",
    "elif Asteroide == 20:\n",
    "    print('Se ve una luz en el cielo')\n",
    "else:\n",
    "    print('¡Vamos a ver mejor el superbowl!')"
   ]
  },
  {
   "cell_type": "markdown",
   "metadata": {},
   "source": [
    "# Ejercicio 3"
   ]
  },
  {
   "cell_type": "code",
   "execution_count": 7,
   "metadata": {},
   "outputs": [
    {
     "name": "stdout",
     "output_type": "stream",
     "text": [
      "Se ve una luz en el cielo!\n"
     ]
    }
   ],
   "source": [
    "VelocidadAsteroide = input(\"Ingrese la velocidad del asteroide\")\n",
    "TamanoAsteroide = input(\"Ingrese el tamaño del asteroide\")\n",
    "VelocidadAsteroide=int(VelocidadAsteroide)\n",
    "TamanoAsteroide=int(TamanoAsteroide)\n",
    "\n",
    "if VelocidadAsteroide > 25 and TamanoAsteroide > 25 and TamanoAsteroide < 1000:\n",
    "    print('¡Salvese quien pueda!')\n",
    "elif VelocidadAsteroide >= 20:\n",
    "    print('Se ve una luz en el cielo!')\n",
    "elif TamanoAsteroide < 25:\n",
    "    print(\"Don't worry, be happy\")\n",
    "else:\n",
    "    print('Mejor vamos a ver el superbowl')"
   ]
  }
 ],
 "metadata": {
  "interpreter": {
   "hash": "a451f90202330b4b0a43cdee838cb52f167360b45f515e74de1dcd7fb6d146b7"
  },
  "kernelspec": {
   "display_name": "Python 3.9.10 64-bit (windows store)",
   "language": "python",
   "name": "python3"
  },
  "language_info": {
   "codemirror_mode": {
    "name": "ipython",
    "version": 3
   },
   "file_extension": ".py",
   "mimetype": "text/x-python",
   "name": "python",
   "nbconvert_exporter": "python",
   "pygments_lexer": "ipython3",
   "version": "3.9.10"
  },
  "orig_nbformat": 4
 },
 "nbformat": 4,
 "nbformat_minor": 2
}
