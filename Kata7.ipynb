{
 "cells": [
  {
   "cell_type": "markdown",
   "metadata": {},
   "source": [
    "# Ejercicio 1"
   ]
  },
  {
   "cell_type": "code",
   "execution_count": 1,
   "metadata": {},
   "outputs": [],
   "source": [
    "NuevoPlaneta = ''\n",
    "Planetas = []\n",
    "while NuevoPlaneta.lower() != 'done':\n",
    "    if NuevoPlaneta:\n",
    "        Planetas.append(NuevoPlaneta)\n",
    "    NuevoPlaneta=input(\"Ingresa nuevo planeta si ya no quieres ingresar planetas escribe 'done' \")"
   ]
  },
  {
   "cell_type": "markdown",
   "metadata": {},
   "source": [
    "# Ejercicio 2"
   ]
  },
  {
   "cell_type": "code",
   "execution_count": 3,
   "metadata": {},
   "outputs": [
    {
     "name": "stdout",
     "output_type": "stream",
     "text": [
      "\n",
      " Tierra\n",
      "\n",
      " Marte\n",
      "\n",
      " Jupiter\n",
      "\n",
      " Saturno\n",
      "\n",
      " Venus\n",
      "\n",
      " Mercurio\n"
     ]
    }
   ],
   "source": [
    "for Planeta in Planetas:\n",
    "    print(\"\\n\" , Planeta)"
   ]
  }
 ],
 "metadata": {
  "interpreter": {
   "hash": "a451f90202330b4b0a43cdee838cb52f167360b45f515e74de1dcd7fb6d146b7"
  },
  "kernelspec": {
   "display_name": "Python 3.9.10 64-bit (windows store)",
   "language": "python",
   "name": "python3"
  },
  "language_info": {
   "codemirror_mode": {
    "name": "ipython",
    "version": 3
   },
   "file_extension": ".py",
   "mimetype": "text/x-python",
   "name": "python",
   "nbconvert_exporter": "python",
   "pygments_lexer": "ipython3",
   "version": "3.9.10"
  },
  "orig_nbformat": 4
 },
 "nbformat": 4,
 "nbformat_minor": 2
}
