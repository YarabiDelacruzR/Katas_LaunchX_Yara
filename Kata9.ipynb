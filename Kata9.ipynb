{
 "cells": [
  {
   "cell_type": "markdown",
   "metadata": {},
   "source": [
    "# Ejercicio 1"
   ]
  },
  {
   "cell_type": "code",
   "execution_count": 1,
   "metadata": {},
   "outputs": [
    {
     "name": "stdout",
     "output_type": "stream",
     "text": [
      "Reporte de Combustible:\n",
      "    Promedio Total: 78.33333333333333%\n",
      "    Tanque Principal: 80%\n",
      "    Tanque Externo: 70%\n",
      "    Tanque de Hidrogeno: 85% \n",
      "    \n"
     ]
    }
   ],
   "source": [
    "def GenerarReporte(TanquePrincipal, TanqueExterno, TanqueHidrogeno):\n",
    "    PromedioTotal = (TanquePrincipal + TanqueExterno + TanqueHidrogeno) / 3\n",
    "    return f\"\"\"Reporte de Combustible:\n",
    "    Promedio Total: {PromedioTotal}%\n",
    "    Tanque Principal: {TanquePrincipal}%\n",
    "    Tanque Externo: {TanqueExterno}%\n",
    "    Tanque de Hidrogeno: {TanqueHidrogeno}% \n",
    "    \"\"\"\n",
    "\n",
    "print(GenerarReporte(80, 70, 85))\n",
    "\n",
    "\n"
   ]
  },
  {
   "cell_type": "code",
   "execution_count": 2,
   "metadata": {},
   "outputs": [
    {
     "data": {
      "text/plain": [
       "82.0"
      ]
     },
     "execution_count": 2,
     "metadata": {},
     "output_type": "execute_result"
    }
   ],
   "source": [
    "def Promedio(values):\n",
    "    total = sum(values)\n",
    "    NumeroDeElementos = len(values)\n",
    "    return total / NumeroDeElementos\n",
    "\n",
    "# Test the averaging function with a list of integers:\n",
    "Promedio([80, 85, 81]) "
   ]
  },
  {
   "cell_type": "code",
   "execution_count": 4,
   "metadata": {},
   "outputs": [
    {
     "name": "stdout",
     "output_type": "stream",
     "text": [
      "Reporte de Combustible:\n",
      "    Promedio Total: 78.0%\n",
      "    Tanque Principal: 88%\n",
      "    Tanque Externo: 76%\n",
      "    Tanque de Hidrogeno: 70% \n",
      "    \n"
     ]
    }
   ],
   "source": [
    "def GenerarReporte(TanquePrincipal, TanqueExterno, TanqueHidrogeno):\n",
    "    PromedioTotal = (TanquePrincipal + TanqueExterno + TanqueHidrogeno) / 3\n",
    "    return f\"\"\"Reporte de Combustible:\n",
    "    Promedio Total: {Promedio([TanquePrincipal,TanqueExterno,TanqueHidrogeno])}%\n",
    "    Tanque Principal: {TanquePrincipal}%\n",
    "    Tanque Externo: {TanqueExterno}%\n",
    "    Tanque de Hidrogeno: {TanqueHidrogeno}% \n",
    "    \"\"\"\n",
    "\n",
    "print(GenerarReporte(88, 76, 70))"
   ]
  },
  {
   "cell_type": "markdown",
   "metadata": {},
   "source": [
    "# Ejercicio 2"
   ]
  },
  {
   "cell_type": "code",
   "execution_count": 6,
   "metadata": {},
   "outputs": [
    {
     "name": "stdout",
     "output_type": "stream",
     "text": [
      "\n",
      "    Mision hacia  Luna\n",
      "    Tiempo total de vuelo: 65 minutos\n",
      "    Combustible total gastado: 500000 galones\n",
      "    \n"
     ]
    }
   ],
   "source": [
    "def ReporteDeMision(TiempoDeLanzamiento, TiempoDeVuelo, Destino, TanqueExterno, TanquePrincipal):\n",
    "    return f\"\"\"\n",
    "    Mision hacia  {Destino}\n",
    "    Tiempo total de vuelo: {TiempoDeLanzamiento + TiempoDeVuelo} minutos\n",
    "    Combustible total gastado: {TanqueExterno + TanquePrincipal} galones\n",
    "    \"\"\"\n",
    "\n",
    "print(ReporteDeMision(14, 51, \"Luna\", 200000, 300000))"
   ]
  },
  {
   "cell_type": "code",
   "execution_count": 7,
   "metadata": {},
   "outputs": [
    {
     "name": "stdout",
     "output_type": "stream",
     "text": [
      "\n",
      "    Mision hacia  Luna\n",
      "    Tiempo total de vuelo: 76 minutos\n",
      "    Combustible total gastado: 500000 galones\n",
      "    \n"
     ]
    }
   ],
   "source": [
    "def ReporteDeMision(Destino, *Minutos, **ReservaDeCombustible):\n",
    "    return f\"\"\"\n",
    "    Mision hacia  {Destino}\n",
    "    Tiempo total de vuelo: {sum(Minutos)} minutos\n",
    "    Combustible total gastado: {sum(ReservaDeCombustible.values())} galones\n",
    "    \"\"\"\n",
    "\n",
    "print(ReporteDeMision(\"Luna\", 10, 15, 51,Principal=300000,Externo=200000))"
   ]
  },
  {
   "cell_type": "code",
   "execution_count": 10,
   "metadata": {},
   "outputs": [
    {
     "name": "stdout",
     "output_type": "stream",
     "text": [
      "\n",
      "    Mision hacia  Luna\n",
      "    Tiempo total de vuelo: 74 minutos\n",
      "    Combustible total gastado: 500000 galones\n",
      "    \n"
     ]
    }
   ],
   "source": [
    "def ReporteDeMision(Destino, *Minutos, **ReservaDeCombustible):\n",
    "    return f\"\"\"\n",
    "    Mision hacia  {Destino}\n",
    "    Tiempo total de vuelo: {sum(Minutos)} minutos\n",
    "    Combustible total gastado: {sum(ReservaDeCombustible.values())} galones\n",
    "    \"\"\"\n",
    "    for NombreTanque, Galeones in ReservaDeCombustible.items():\n",
    "        ReporteDeMision += f\"{NombreTanque} Tanque----> {Galeones} Galeones Gastados\"\n",
    "    return ReporteDeMision \n",
    "\n",
    "print(ReporteDeMision(\"Luna\", 8, 11, 55,Principal=300000,Externo=200000))"
   ]
  }
 ],
 "metadata": {
  "interpreter": {
   "hash": "a451f90202330b4b0a43cdee838cb52f167360b45f515e74de1dcd7fb6d146b7"
  },
  "kernelspec": {
   "display_name": "Python 3.9.10 64-bit (windows store)",
   "language": "python",
   "name": "python3"
  },
  "language_info": {
   "codemirror_mode": {
    "name": "ipython",
    "version": 3
   },
   "file_extension": ".py",
   "mimetype": "text/x-python",
   "name": "python",
   "nbconvert_exporter": "python",
   "pygments_lexer": "ipython3",
   "version": "3.9.10"
  },
  "orig_nbformat": 4
 },
 "nbformat": 4,
 "nbformat_minor": 2
}
