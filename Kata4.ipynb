{
 "cells": [
  {
   "cell_type": "markdown",
   "metadata": {},
   "source": [
    "# Ejercicio 1"
   ]
  },
  {
   "cell_type": "code",
   "execution_count": 7,
   "metadata": {},
   "outputs": [
    {
     "name": "stdout",
     "output_type": "stream",
     "text": [
      "['Interesting facts about the Moon', \" The Moon is Earth's only satellite\", ' There are several interesting facts about the Moon and how it affects life here on Earth', ' On average, the Moon moves 4cm away from the Earth every year', ' This yearly drift is not significant enough']\n",
      "\n",
      "\n",
      "['average', 'temperature', 'distance']\n",
      "\n",
      "\n",
      "Oracion que contiene una de las palabras clave\n",
      " On average, the Moon moves 4cm away from the Earth every year\n"
     ]
    }
   ],
   "source": [
    "Texto = \"\"\"Interesting facts about the Moon. The Moon is Earth's only satellite. There are several interesting facts about the Moon and how it affects life here on Earth. On average, the Moon moves 4cm away from the Earth every year. This yearly drift is not significant enough\"\"\"\n",
    "\n",
    "TextoSeparado=Texto.split('.')\n",
    "\n",
    "print(Texto.split('.'))\n",
    "print(\"\\n\")\n",
    "PalabrasClave=['average','temperature' ,'distance']\n",
    "print(PalabrasClave)\n",
    "print(\"\\n\")\n",
    "for oracion in TextoSeparado:\n",
    "    for palabraClave in PalabrasClave:\n",
    "        if palabraClave in oracion:\n",
    "            print(\"Oracion que contiene una de las palabras clave\")\n",
    "            print(oracion)"
   ]
  },
  {
   "cell_type": "markdown",
   "metadata": {},
   "source": [
    "# Ejercicio 2"
   ]
  },
  {
   "cell_type": "code",
   "execution_count": 10,
   "metadata": {},
   "outputs": [
    {
     "name": "stdout",
     "output_type": "stream",
     "text": [
      "--------------------------------------------------------------------------------\n",
      "Nombre Del Planeta: Marte\n",
      "Gravedad en Ganimedes: 1.4300000000000002 m/s2\n",
      "--------------------------------------------------------------------------------\n",
      "Nombre Del Planeta: Marte\n",
      "Gravedad en Ganimedes: 1.4300000000000002 m/s2\n"
     ]
    }
   ],
   "source": [
    "Planeta='Marte'\n",
    "Gravedad=0.00143\n",
    "Nombre='Ganimedes'\n",
    "Titulo= f'datos de gravedad sobre{Nombre}'\n",
    "Hecho=f\"\"\"{'-'*80}\n",
    "Nombre Del Planeta: {Planeta}\n",
    "Gravedad en {Nombre}: {Gravedad *1000} m/s2\"\"\"\n",
    "Plantilla=f\"\"\"{Titulo.title()}\n",
    "{Hecho}\n",
    "\"\"\"\n",
    "print(Hecho)\n",
    "\n"
   ]
  },
  {
   "cell_type": "code",
   "execution_count": 11,
   "metadata": {},
   "outputs": [
    {
     "name": "stdout",
     "output_type": "stream",
     "text": [
      "--------------------------------------------------------------------------------\n",
      "Nombre Del Planeta: Marte\n",
      "Gravedad en Ganimedes: 1.4300000000000002 m/s2\n"
     ]
    }
   ],
   "source": [
    "Planeta='Marte'\n",
    "Gravedad=0.00143\n",
    "Nombre='Ganimides'\n",
    "print(Hecho)\n"
   ]
  },
  {
   "cell_type": "code",
   "execution_count": 13,
   "metadata": {},
   "outputs": [
    {
     "name": "stdout",
     "output_type": "stream",
     "text": [
      "\n",
      "Datos de Gravedad sobre Ganimides\n",
      "------------------------------\n",
      "Nombre del planeta Marte\n",
      "Gravedad en Ganimides: 0.00143 m/s2\n",
      "\n",
      "\n",
      "Datos de Gravedad sobre Ganimides\n",
      "------------------------------\n",
      "Nombre del planeta Marte\n",
      "Gravedad en Ganimides: 1.4300000000000002 m/s2\n",
      "\n"
     ]
    }
   ],
   "source": [
    "NuevaPlantilla=\"\"\"\n",
    "Datos de Gravedad sobre {Nombre}\n",
    "------------------------------\n",
    "Nombre del planeta {Planeta}\n",
    "Gravedad en {Nombre}: {Gravedad} m/s2\n",
    "\"\"\"\n",
    "print(NuevaPlantilla.format(Nombre=Nombre,Planeta=Planeta,Gravedad=Gravedad))\n",
    "print(NuevaPlantilla.format(Nombre=Nombre,Planeta=Planeta,Gravedad=Gravedad*1000))\n"
   ]
  }
 ],
 "metadata": {
  "interpreter": {
   "hash": "a451f90202330b4b0a43cdee838cb52f167360b45f515e74de1dcd7fb6d146b7"
  },
  "kernelspec": {
   "display_name": "Python 3.9.10 64-bit (windows store)",
   "language": "python",
   "name": "python3"
  },
  "language_info": {
   "codemirror_mode": {
    "name": "ipython",
    "version": 3
   },
   "file_extension": ".py",
   "mimetype": "text/x-python",
   "name": "python",
   "nbconvert_exporter": "python",
   "pygments_lexer": "ipython3",
   "version": "3.9.10"
  },
  "orig_nbformat": 4
 },
 "nbformat": 4,
 "nbformat_minor": 2
}
