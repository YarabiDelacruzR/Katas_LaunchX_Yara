{
 "cells": [
  {
   "cell_type": "markdown",
   "metadata": {},
   "source": [
    "# Ejercicio 1"
   ]
  },
  {
   "cell_type": "code",
   "execution_count": 5,
   "metadata": {},
   "outputs": [
    {
     "name": "stdout",
     "output_type": "stream",
     "text": [
      "La distancia entre Jupiter y la tierra es :\n",
      "628949330\n",
      "La distancia entre Jupiter y la tierra en millas es\n",
      "390577533.93\n"
     ]
    }
   ],
   "source": [
    "Tierra=149597870\n",
    "Jupiter=778547200\n",
    "DistanciaEntreTyJ=Jupiter-Tierra\n",
    "print(\"La distancia entre Jupiter y la tierra es :\" )\n",
    "print(DistanciaEntreTyJ)\n",
    "DistanciaEntreTyJEnMillas=DistanciaEntreTyJ * 0.621\n",
    "print(\"La distancia entre Jupiter y la tierra en millas es:\" )\n",
    "print(DistanciaEntreTyJEnMillas)"
   ]
  },
  {
   "cell_type": "markdown",
   "metadata": {},
   "source": [
    "# Ejercicio 2"
   ]
  },
  {
   "cell_type": "code",
   "execution_count": 7,
   "metadata": {},
   "outputs": [
    {
     "name": "stdout",
     "output_type": "stream",
     "text": [
      "Distancia en km entre primer y segundo planeta \n",
      "\n",
      "3500\n",
      "Distancia en M entre primer y segundo planeta \n",
      "\n",
      "2173.5\n"
     ]
    }
   ],
   "source": [
    "PrimerPlaneta=input(\"Introduzca la distancia del sol al primer planeta en km\")\n",
    "SegundoPlaneta=input(\"Introduzca la distancia del sol a el segundo planeta en km\")\n",
    "PrimerPlaneta=int(PrimerPlaneta)\n",
    "SegundoPlaneta=int(SegundoPlaneta)\n",
    "DistanciaKm=SegundoPlaneta-PrimerPlaneta\n",
    "print(\"Distancia en km entre primer y segundo planeta \\n\")\n",
    "print(DistanciaKm)\n",
    "DistanciaM=DistanciaKm*0.621\n",
    "print(\"Distancia en M entre primer y segundo planeta \\n\")\n",
    "print(abs(DistanciaM))\n"
   ]
  }
 ],
 "metadata": {
  "interpreter": {
   "hash": "a451f90202330b4b0a43cdee838cb52f167360b45f515e74de1dcd7fb6d146b7"
  },
  "kernelspec": {
   "display_name": "Python 3.9.10 64-bit (windows store)",
   "language": "python",
   "name": "python3"
  },
  "language_info": {
   "codemirror_mode": {
    "name": "ipython",
    "version": 3
   },
   "file_extension": ".py",
   "mimetype": "text/x-python",
   "name": "python",
   "nbconvert_exporter": "python",
   "pygments_lexer": "ipython3",
   "version": "3.9.10"
  },
  "orig_nbformat": 4
 },
 "nbformat": 4,
 "nbformat_minor": 2
}
