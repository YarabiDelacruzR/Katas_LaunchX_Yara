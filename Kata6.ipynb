{
 "cells": [
  {
   "cell_type": "markdown",
   "metadata": {},
   "source": [
    "# Ejercicio 1"
   ]
  },
  {
   "cell_type": "code",
   "execution_count": 4,
   "metadata": {},
   "outputs": [
    {
     "name": "stdout",
     "output_type": "stream",
     "text": [
      "Existen un total de 8 planetas\n",
      "Pluton Es el ultimo planeta\n"
     ]
    }
   ],
   "source": [
    "Planetas=['Mercurio','Venus','Tierra','Marte','Jupiter','Saturno','Urano','Neptuno']\n",
    "Cuenta=len(Planetas)\n",
    "print(\"Existen un total de\", Cuenta , \"planetas\")\n",
    "Planetas.append(\"Pluton\")\n",
    "print(Planetas[-1], \"Es el ultimo planeta\")"
   ]
  },
  {
   "cell_type": "markdown",
   "metadata": {},
   "source": [
    "# Ejercicio 2"
   ]
  },
  {
   "cell_type": "code",
   "execution_count": 11,
   "metadata": {},
   "outputs": [
    {
     "name": "stdout",
     "output_type": "stream",
     "text": [
      "Estos son los planeta mas cercanos al sol antes de Jupiter\n",
      "['Mercurio', 'Venus', 'Tierra', 'Marte']\n",
      "Estos son los planeta mas lejanos al sol despues  de Jupiter\n",
      "['Saturno', 'Urano', 'Neptuno']\n"
     ]
    }
   ],
   "source": [
    "Planetas=['Mercurio','Venus','Tierra','Marte','Jupiter','Saturno','Urano','Neptuno']\n",
    "Planeta_A_Buscar=input('Ingresa el nombre del planeta que desea buscar')\n",
    "IndiceDelPlaneta=Planetas.index(Planeta_A_Buscar)\n",
    "print(\"Estos son los planeta mas cercanos al sol antes de \" + Planeta_A_Buscar)\n",
    "print(Planetas[0:IndiceDelPlaneta])\n",
    "print(\"Estos son los planeta mas lejanos al sol despues  de \" + Planeta_A_Buscar)\n",
    "print(Planetas[IndiceDelPlaneta+1:])\n"
   ]
  }
 ],
 "metadata": {
  "interpreter": {
   "hash": "a451f90202330b4b0a43cdee838cb52f167360b45f515e74de1dcd7fb6d146b7"
  },
  "kernelspec": {
   "display_name": "Python 3.9.10 64-bit (windows store)",
   "language": "python",
   "name": "python3"
  },
  "language_info": {
   "codemirror_mode": {
    "name": "ipython",
    "version": 3
   },
   "file_extension": ".py",
   "mimetype": "text/x-python",
   "name": "python",
   "nbconvert_exporter": "python",
   "pygments_lexer": "ipython3",
   "version": "3.9.10"
  },
  "orig_nbformat": 4
 },
 "nbformat": 4,
 "nbformat_minor": 2
}
